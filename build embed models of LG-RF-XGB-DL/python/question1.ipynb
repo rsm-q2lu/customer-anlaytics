{
 "cells": [
  {
   "cell_type": "code",
   "execution_count": null,
   "metadata": {},
   "outputs": [],
   "source": [
    "lr = smf.logit(\n",
    "    formula=\"res1_yes ~ numords + version1 + upgraded\",\n",
    "    data=intuit75k.query(\"training == 1\"),\n",
    ").fit(maxiter = 1000, method='bfgs')\n",
    "print(lr.summary())"
   ]
  }
 ],
 "metadata": {
  "kernelspec": {
   "display_name": "Python 3",
   "language": "python",
   "name": "python3"
  },
  "language_info": {
   "codemirror_mode": {
    "name": "ipython",
    "version": 3
   },
   "file_extension": ".py",
   "mimetype": "text/x-python",
   "name": "python",
   "nbconvert_exporter": "python",
   "pygments_lexer": "ipython3",
   "version": "3.6.9"
  }
 },
 "nbformat": 4,
 "nbformat_minor": 4
}
