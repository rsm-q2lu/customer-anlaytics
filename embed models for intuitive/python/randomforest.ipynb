{
 "cells": [
  {
   "cell_type": "code",
   "execution_count": 92,
   "metadata": {},
   "outputs": [],
   "source": [
    "import numpy as np\n",
    "import pandas as pd\n",
    "from sklearn.model_selection import GridSearchCV,RandomizedSearchCV\n",
    "from keras.callbacks import EarlyStopping\n",
    "from sklearn.model_selection import train_test_split\n",
    "from sklearn.preprocessing import LabelEncoder\n",
    "from sklearn import metrics\n",
    "from sklearn.ensemble import RandomForestClassifier\n",
    "from pyrsm import gains, gains_plot, lift, lift_plot, confusion, profit_max, ROME_max"
   ]
  },
  {
   "cell_type": "code",
   "execution_count": 2,
   "metadata": {},
   "outputs": [],
   "source": [
    "data = pd.read_csv('../intuit75k_new.csv')\n",
    "categorical_columns=['zip_bins','sex','zip801','zip804']\n",
    "othercol=['numords','last','dollars','sincepurch','bizflag','owntaxprod','version1','upgraded','training']\n",
    "keep=categorical_columns+othercol+['label']\n",
    "combind_data=data.loc[:,keep]\n",
    "combind_data[categorical_columns] = combind_data[categorical_columns].apply(lambda x: LabelEncoder().fit_transform(x))\n",
    "X_train=combind_data.loc[combind_data.training==1].drop(columns='label').drop(columns='training')\n",
    "y_train=combind_data.loc[combind_data.training==1].label\n",
    "X_test=combind_data.loc[combind_data.training==0].drop(columns='label').drop(columns='training')\n",
    "y_test=combind_data.loc[combind_data.training==0].label"
   ]
  },
  {
   "cell_type": "code",
   "execution_count": 53,
   "metadata": {},
   "outputs": [
    {
     "data": {
      "text/plain": [
       "RandomForestClassifier(bootstrap=True, ccp_alpha=0.0, class_weight=None,\n",
       "                       criterion='gini', max_depth=10, max_features='auto',\n",
       "                       max_leaf_nodes=None, max_samples=None,\n",
       "                       min_impurity_decrease=0.0, min_impurity_split=None,\n",
       "                       min_samples_leaf=1, min_samples_split=2,\n",
       "                       min_weight_fraction_leaf=0.0, n_estimators=150,\n",
       "                       n_jobs=None, oob_score=False, random_state=123,\n",
       "                       verbose=0, warm_start=False)"
      ]
     },
     "execution_count": 53,
     "metadata": {},
     "output_type": "execute_result"
    }
   ],
   "source": [
    "clf=RandomForestClassifier(n_estimators=150,random_state=123,max_depth=10)\n",
    "clf.fit(X_train, y_train)"
   ]
  },
  {
   "cell_type": "code",
   "execution_count": 54,
   "metadata": {},
   "outputs": [
    {
     "data": {
      "text/plain": [
       "0.7651663235934608"
      ]
     },
     "execution_count": 54,
     "metadata": {},
     "output_type": "execute_result"
    }
   ],
   "source": [
    "preds =clf.predict_proba(X_test)\n",
    "fpr, tpr, thresholds = metrics.roc_curve(y_test.values, preds[:, 1])\n",
    "auc_rf = metrics.auc(fpr, tpr)\n",
    "auc_rf"
   ]
  },
  {
   "cell_type": "code",
   "execution_count": 55,
   "metadata": {},
   "outputs": [
    {
     "name": "stderr",
     "output_type": "stream",
     "text": [
      "/usr/local/lib/python3.6/dist-packages/ipykernel_launcher.py:6: SettingWithCopyWarning: \n",
      "A value is trying to be set on a copy of a slice from a DataFrame.\n",
      "Try using .loc[row_indexer,col_indexer] = value instead\n",
      "\n",
      "See the caveats in the documentation: http://pandas.pydata.org/pandas-docs/stable/user_guide/indexing.html#returning-a-view-versus-a-copy\n",
      "  \n",
      "/usr/local/lib/python3.6/dist-packages/ipykernel_launcher.py:7: SettingWithCopyWarning: \n",
      "A value is trying to be set on a copy of a slice from a DataFrame.\n",
      "Try using .loc[row_indexer,col_indexer] = value instead\n",
      "\n",
      "See the caveats in the documentation: http://pandas.pydata.org/pandas-docs/stable/user_guide/indexing.html#returning-a-view-versus-a-copy\n",
      "  import sys\n",
      "/usr/local/lib/python3.6/dist-packages/pandas/core/indexing.py:494: SettingWithCopyWarning: \n",
      "A value is trying to be set on a copy of a slice from a DataFrame.\n",
      "Try using .loc[row_indexer,col_indexer] = value instead\n",
      "\n",
      "See the caveats in the documentation: http://pandas.pydata.org/pandas-docs/stable/user_guide/indexing.html#returning-a-view-versus-a-copy\n",
      "  self.obj[item] = s\n"
     ]
    },
    {
     "data": {
      "text/plain": [
       "38013.75"
      ]
     },
     "execution_count": 55,
     "metadata": {},
     "output_type": "execute_result"
    }
   ],
   "source": [
    "margin=60\n",
    "cost=1.41\n",
    "breakeven_rate=cost/margin\n",
    "\n",
    "testdata=combind_data.loc[combind_data.training==0]\n",
    "testdata['randomforest']=preds[:,1]\n",
    "testdata['pred_click']=1\n",
    "testdata.loc[testdata['randomforest']<breakeven_rate,'pred_click']=0\n",
    "tp=testdata.loc[testdata.pred_click==1].loc[testdata.label==1]\n",
    "revenue=len(tp)*margin\n",
    "pred_true=sum(testdata.pred_click)\n",
    "totalcost=pred_true*cost\n",
    "profit=revenue-totalcost\n",
    "profit"
   ]
  },
  {
   "cell_type": "code",
   "execution_count": 56,
   "metadata": {},
   "outputs": [
    {
     "name": "stderr",
     "output_type": "stream",
     "text": [
      "/usr/local/lib/python3.6/dist-packages/ipykernel_launcher.py:4: SettingWithCopyWarning: \n",
      "A value is trying to be set on a copy of a slice from a DataFrame.\n",
      "Try using .loc[row_indexer,col_indexer] = value instead\n",
      "\n",
      "See the caveats in the documentation: http://pandas.pydata.org/pandas-docs/stable/user_guide/indexing.html#returning-a-view-versus-a-copy\n",
      "  after removing the cwd from sys.path.\n",
      "/usr/local/lib/python3.6/dist-packages/ipykernel_launcher.py:5: SettingWithCopyWarning: \n",
      "A value is trying to be set on a copy of a slice from a DataFrame.\n",
      "Try using .loc[row_indexer,col_indexer] = value instead\n",
      "\n",
      "See the caveats in the documentation: http://pandas.pydata.org/pandas-docs/stable/user_guide/indexing.html#returning-a-view-versus-a-copy\n",
      "  \"\"\"\n"
     ]
    }
   ],
   "source": [
    "#scaled profit\n",
    "total=763334\n",
    "testdata2=combind_data.loc[combind_data.training==0]\n",
    "testdata2['randomforest']=preds[:,1]\n",
    "testdata2['pred_click']=1\n",
    "testdata2.loc[testdata2['randomforest']/2<breakeven_rate,'pred_click']=0\n",
    "tp=testdata2.loc[testdata2.pred_click==1].loc[testdata2.label==1]\n",
    "pred_true=sum(testdata2.pred_click)\n",
    "pred_true_rate=pred_true/len(testdata2)\n",
    "send_number=total*pred_true_rate\n",
    "adj_response_rate=len(tp)/pred_true/2\n",
    "exp_buyers=adj_response_rate*send_number\n",
    "totalcost=send_number*cost\n",
    "exp_profit=exp_buyers*margin-totalcost"
   ]
  },
  {
   "cell_type": "code",
   "execution_count": 57,
   "metadata": {},
   "outputs": [
    {
     "data": {
      "text/plain": [
       "447165.12831466686"
      ]
     },
     "execution_count": 57,
     "metadata": {},
     "output_type": "execute_result"
    }
   ],
   "source": [
    "exp_profit"
   ]
  },
  {
   "cell_type": "markdown",
   "metadata": {},
   "source": [
    "#### Grid search for random forest"
   ]
  },
  {
   "cell_type": "code",
   "execution_count": 58,
   "metadata": {},
   "outputs": [
    {
     "name": "stderr",
     "output_type": "stream",
     "text": [
      "/usr/local/lib/python3.6/dist-packages/sklearn/model_selection/_search.py:281: UserWarning: The total space of parameters 40 is smaller than n_iter=50. Running 40 iterations. For exhaustive searches, use GridSearchCV.\n",
      "  % (grid_size, self.n_iter, grid_size), UserWarning)\n",
      "[Parallel(n_jobs=1)]: Using backend SequentialBackend with 1 concurrent workers.\n"
     ]
    },
    {
     "name": "stdout",
     "output_type": "stream",
     "text": [
      "Fitting 5 folds for each of 40 candidates, totalling 200 fits\n"
     ]
    },
    {
     "name": "stderr",
     "output_type": "stream",
     "text": [
      "[Parallel(n_jobs=1)]: Done 200 out of 200 | elapsed: 13.2min finished\n"
     ]
    },
    {
     "data": {
      "text/plain": [
       "RandomizedSearchCV(cv=5, error_score=nan,\n",
       "                   estimator=RandomForestClassifier(bootstrap=True,\n",
       "                                                    ccp_alpha=0.0,\n",
       "                                                    class_weight=None,\n",
       "                                                    criterion='gini',\n",
       "                                                    max_depth=None,\n",
       "                                                    max_features='auto',\n",
       "                                                    max_leaf_nodes=None,\n",
       "                                                    max_samples=None,\n",
       "                                                    min_impurity_decrease=0.0,\n",
       "                                                    min_impurity_split=None,\n",
       "                                                    min_samples_leaf=1,\n",
       "                                                    min_samples_split=2,\n",
       "                                                    min_weight_fraction_leaf=0.0,\n",
       "                                                    n_estimators=100,\n",
       "                                                    n_jobs=None,\n",
       "                                                    oob_score=False,\n",
       "                                                    random_state=None,\n",
       "                                                    verbose=0,\n",
       "                                                    warm_start=False),\n",
       "                   iid='deprecated', n_iter=50, n_jobs=None,\n",
       "                   param_distributions={'max_depth': range(2, 10),\n",
       "                                        'n_estimators': range(100, 301, 50)},\n",
       "                   pre_dispatch='2*n_jobs', random_state=None, refit=True,\n",
       "                   return_train_score=False, scoring='roc_auc', verbose=1)"
      ]
     },
     "execution_count": 58,
     "metadata": {},
     "output_type": "execute_result"
    }
   ],
   "source": [
    "# Create the parameter grid: gbm_param_grid\n",
    "rf_param_grid = {\n",
    "    'n_estimators': range(100,301,50), ### how to set n_estimators?\n",
    "    'max_depth': range(2,10)\n",
    "}\n",
    "\n",
    "# Instantiate the regressor: gbm\n",
    "clf = RandomForestClassifier()\n",
    "\n",
    "# Perform grid search: grid_auc\n",
    "randomized_clf = RandomizedSearchCV(\n",
    "    param_distributions=rf_param_grid,estimator=clf,scoring=\"roc_auc\",n_iter=50,cv=5,verbose=1\n",
    ")\n",
    "\n",
    "# Fit grid_mse to the data\n",
    "randomized_clf.fit(X_train,y_train)"
   ]
  },
  {
   "cell_type": "code",
   "execution_count": 60,
   "metadata": {},
   "outputs": [
    {
     "name": "stdout",
     "output_type": "stream",
     "text": [
      "Best parameters found:  {'n_estimators': 300, 'max_depth': 8}\n",
      "higest auc found:  0.769589345811439\n"
     ]
    }
   ],
   "source": [
    "print(\"Best parameters found: \", randomized_clf.best_params_)\n",
    "print(\"higest auc found: \", np.abs(randomized_clf.best_score_))"
   ]
  },
  {
   "cell_type": "code",
   "execution_count": 61,
   "metadata": {},
   "outputs": [
    {
     "data": {
      "text/plain": [
       "0.7643455706820561"
      ]
     },
     "execution_count": 61,
     "metadata": {},
     "output_type": "execute_result"
    }
   ],
   "source": [
    "preds =randomized_clf.predict_proba(X_test)\n",
    "fpr, tpr, thresholds = metrics.roc_curve(y_test.values, preds[:, 1])\n",
    "auc_rf = metrics.auc(fpr, tpr)\n",
    "auc_rf"
   ]
  },
  {
   "cell_type": "code",
   "execution_count": 62,
   "metadata": {},
   "outputs": [
    {
     "name": "stderr",
     "output_type": "stream",
     "text": [
      "/usr/local/lib/python3.6/dist-packages/ipykernel_launcher.py:5: SettingWithCopyWarning: \n",
      "A value is trying to be set on a copy of a slice from a DataFrame.\n",
      "Try using .loc[row_indexer,col_indexer] = value instead\n",
      "\n",
      "See the caveats in the documentation: http://pandas.pydata.org/pandas-docs/stable/user_guide/indexing.html#returning-a-view-versus-a-copy\n",
      "  \"\"\"\n",
      "/usr/local/lib/python3.6/dist-packages/ipykernel_launcher.py:6: SettingWithCopyWarning: \n",
      "A value is trying to be set on a copy of a slice from a DataFrame.\n",
      "Try using .loc[row_indexer,col_indexer] = value instead\n",
      "\n",
      "See the caveats in the documentation: http://pandas.pydata.org/pandas-docs/stable/user_guide/indexing.html#returning-a-view-versus-a-copy\n",
      "  \n",
      "/usr/local/lib/python3.6/dist-packages/pandas/core/indexing.py:494: SettingWithCopyWarning: \n",
      "A value is trying to be set on a copy of a slice from a DataFrame.\n",
      "Try using .loc[row_indexer,col_indexer] = value instead\n",
      "\n",
      "See the caveats in the documentation: http://pandas.pydata.org/pandas-docs/stable/user_guide/indexing.html#returning-a-view-versus-a-copy\n",
      "  self.obj[item] = s\n"
     ]
    }
   ],
   "source": [
    "#scaled profit\n",
    "\n",
    "total=763334\n",
    "testdata=225000\n",
    "testdata2=combind_data.loc[combind_data.training==0]\n",
    "testdata2['randomforest']=preds[:,1]\n",
    "testdata2['pred_click']=1\n",
    "testdata2.loc[testdata2['randomforest']/2<breakeven_rate,'pred_click']=0\n",
    "tp=testdata2.loc[testdata2.pred_click==1].loc[testdata2.label==1]\n",
    "pred_true=sum(testdata2.pred_click)\n",
    "pred_true_rate=pred_true/len(testdata2)\n",
    "send_number=total*pred_true_rate\n",
    "adj_response_rate=len(tp)/pred_true/2\n",
    "exp_buyers=adj_response_rate*send_number\n",
    "totalcost=send_number*cost\n",
    "exp_profit=exp_buyers*margin-totalcost"
   ]
  },
  {
   "cell_type": "code",
   "execution_count": 63,
   "metadata": {},
   "outputs": [
    {
     "data": {
      "text/plain": [
       "441591.772336"
      ]
     },
     "execution_count": 63,
     "metadata": {},
     "output_type": "execute_result"
    }
   ],
   "source": [
    "exp_profit"
   ]
  },
  {
   "cell_type": "code",
   "execution_count": 79,
   "metadata": {},
   "outputs": [
    {
     "data": {
      "text/plain": [
       "13016.34"
      ]
     },
     "execution_count": 79,
     "metadata": {},
     "output_type": "execute_result"
    }
   ],
   "source": [
    "send_number=len(testdata2)*pred_true_rate\n",
    "adj_response_rate=len(tp)/pred_true/2\n",
    "exp_buyers=adj_response_rate*send_number\n",
    "totalcost=send_number*cost\n",
    "exp_profit_test=exp_buyers*margin-totalcost\n",
    "exp_profit_test"
   ]
  }
 ],
 "metadata": {
  "kernelspec": {
   "display_name": "Python 3",
   "language": "python",
   "name": "python3"
  },
  "language_info": {
   "codemirror_mode": {
    "name": "ipython",
    "version": 3
   },
   "file_extension": ".py",
   "mimetype": "text/x-python",
   "name": "python",
   "nbconvert_exporter": "python",
   "pygments_lexer": "ipython3",
   "version": "3.6.9"
  }
 },
 "nbformat": 4,
 "nbformat_minor": 4
}
